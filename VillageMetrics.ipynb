{
 "cells": [
  {
   "cell_type": "code",
   "execution_count": 1,
   "metadata": {
    "collapsed": true
   },
   "outputs": [],
   "source": [
    "import folium\n",
    "import geopandas as gpd\n",
    "import pyepsg\n",
    "import pandas as pd\n",
    "from folium.element import IFrame\n",
    "from folium.plugins import MarkerCluster\n",
    "from folium.plugins import HeatMap\n",
    "# import rt\n",
    "import matplotlib.pylab as plt\n",
    "\n",
    "%matplotlib inline"
   ]
  },
  {
   "cell_type": "markdown",
   "metadata": {},
   "source": [
    "## BE CAREFUL OF UNITS"
   ]
  },
  {
   "cell_type": "code",
   "execution_count": 2,
   "metadata": {
    "collapsed": true
   },
   "outputs": [],
   "source": [
    "Average_Power_Use_per_capita = 40.0*1e-6 #(MWatts per person)\n",
    "Lifetime_Energy_Use_Per_Capita = 4000.0 # kWh/person/life of transmission line\n",
    "cost_grid_connected = 0.036 # dollars/kWh\n",
    "lcoe_coeff = -0.0025 #($/kWh)"
   ]
  },
  {
   "cell_type": "code",
   "execution_count": 3,
   "metadata": {
    "collapsed": true
   },
   "outputs": [],
   "source": [
    "villages = gpd.GeoDataFrame.from_file(\"./VillageMetrics_output/\")\n",
    "cities_towns = gpd.GeoDataFrame.from_file(\"./citiestownpopulation2013.geojson\")\n",
    "census_data = pd.read_csv(\"./HouseholdPopulationbaseddatasetMIMUTownshipsabbreviated.csv\")"
   ]
  },
  {
   "cell_type": "code",
   "execution_count": 4,
   "metadata": {
    "collapsed": true
   },
   "outputs": [],
   "source": [
    "table = \"\"\"\n",
    "<!DOCTYPE html>\n",
    "<html>\n",
    "<head>\n",
    "<style>\n",
    "table {{\n",
    "    width:100%;\n",
    "}}\n",
    "table, th, td {{\n",
    "    border: 1px solid black;\n",
    "    border-collapse: collapse;\n",
    "}}\n",
    "th, td {{\n",
    "    padding: 5px;\n",
    "    text-align: left;\n",
    "}}\n",
    "table#t01 tr:nth-child(odd) {{\n",
    "    background-color: #eee;\n",
    "}}\n",
    "table#t01 tr:nth-child(even) {{\n",
    "   background-color:#fff;\n",
    "}}\n",
    "</style>\n",
    "</head>\n",
    "<body>\n",
    "\n",
    "<table id=\"t01\">\n",
    "  <tr>\n",
    "    <td>Name</td>\n",
    "    <td>{}</td>\n",
    "  </tr>\n",
    "  <tr>\n",
    "    <td>Population</td>\n",
    "    <td>{}</td>\n",
    "  </tr>\n",
    "  <tr>\n",
    "    <td>Distance from Grid</td>\n",
    "    <td>{}</td>\n",
    "  </tr>\n",
    "  <tr>\n",
    "    <td>Total off Grid Cost</td>\n",
    "    <td>{}</td>\n",
    "  </tr>\n",
    "    <tr>\n",
    "    <td>Total on Grid Cost</td>\n",
    "    <td>{}</td>\n",
    "  </tr>\n",
    "</table>\n",
    "</body>\n",
    "</html>\n",
    "\"\"\".format"
   ]
  },
  {
   "cell_type": "code",
   "execution_count": 5,
   "metadata": {
    "collapsed": false
   },
   "outputs": [
    {
     "data": {
      "text/plain": [
       "Index([  u'District', u'District_c', u'GHI_wpm2_1',   u'Gr_ml_cm',\n",
       "          u'HHPhase',  u'Ho_size_r',  u'Ho_size_u',   u'Latitude',\n",
       "        u'Longitude',    u'MVPhase', u'MV_distanc',   u'Mg_fl_cl',\n",
       "             u'Name', u'NightLig_1', u'NightLight',   u'OBJECTID',\n",
       "         u'Pop_2001',   u'Pop_2011',   u'Pop_2013',    u'Pop_g_r',\n",
       "          u'Pop_g_u', u'Population',     u'Source',      u'State',\n",
       "       u'State_code',     u'System', u'Target_hou',   u'Township',\n",
       "       u'Township_c',    u'Village', u'Village_co', u'Village_fa',\n",
       "       u'Village_hh', u'Village_po', u'Villagetra',    u'Vt_code',\n",
       "            u'Vt_hh',     u'Vt_pop',  u'd_MVlines',     u'd_road',\n",
       "         u'geometry'],\n",
       "      dtype='object')"
      ]
     },
     "execution_count": 5,
     "metadata": {},
     "output_type": "execute_result"
    }
   ],
   "source": [
    "villages.columns"
   ]
  },
  {
   "cell_type": "code",
   "execution_count": null,
   "metadata": {
    "collapsed": false
   },
   "outputs": [
    {
     "data": {
      "text/html": [
       "<div>\n",
       "<table border=\"1\" class=\"dataframe\">\n",
       "  <thead>\n",
       "    <tr style=\"text-align: right;\">\n",
       "      <th></th>\n",
       "      <th>District</th>\n",
       "      <th>District_c</th>\n",
       "      <th>GHI_wpm2_1</th>\n",
       "      <th>Gr_ml_cm</th>\n",
       "      <th>HHPhase</th>\n",
       "      <th>Ho_size_r</th>\n",
       "      <th>Ho_size_u</th>\n",
       "      <th>Latitude</th>\n",
       "      <th>Longitude</th>\n",
       "      <th>MVPhase</th>\n",
       "      <th>...</th>\n",
       "      <th>Village_fa</th>\n",
       "      <th>Village_hh</th>\n",
       "      <th>Village_po</th>\n",
       "      <th>Villagetra</th>\n",
       "      <th>Vt_code</th>\n",
       "      <th>Vt_hh</th>\n",
       "      <th>Vt_pop</th>\n",
       "      <th>d_MVlines</th>\n",
       "      <th>d_road</th>\n",
       "      <th>geometry</th>\n",
       "    </tr>\n",
       "  </thead>\n",
       "  <tbody>\n",
       "    <tr>\n",
       "      <th>0</th>\n",
       "      <td>NULL</td>\n",
       "      <td>0</td>\n",
       "      <td>214.926</td>\n",
       "      <td>20</td>\n",
       "      <td>1</td>\n",
       "      <td>6.20</td>\n",
       "      <td>5.85</td>\n",
       "      <td>20.137222</td>\n",
       "      <td>92.885556</td>\n",
       "      <td>1</td>\n",
       "      <td>...</td>\n",
       "      <td>0</td>\n",
       "      <td>0</td>\n",
       "      <td>0</td>\n",
       "      <td>NULL</td>\n",
       "      <td>0</td>\n",
       "      <td>0</td>\n",
       "      <td>0</td>\n",
       "      <td>156373.495616</td>\n",
       "      <td>153.318168</td>\n",
       "      <td>POINT (92.88555600000007 20.13722200000007)</td>\n",
       "    </tr>\n",
       "    <tr>\n",
       "      <th>1</th>\n",
       "      <td>NULL</td>\n",
       "      <td>0</td>\n",
       "      <td>214.992</td>\n",
       "      <td>20</td>\n",
       "      <td>1</td>\n",
       "      <td>6.20</td>\n",
       "      <td>5.85</td>\n",
       "      <td>20.818889</td>\n",
       "      <td>92.367778</td>\n",
       "      <td>1</td>\n",
       "      <td>...</td>\n",
       "      <td>0</td>\n",
       "      <td>0</td>\n",
       "      <td>0</td>\n",
       "      <td>NULL</td>\n",
       "      <td>0</td>\n",
       "      <td>0</td>\n",
       "      <td>0</td>\n",
       "      <td>215488.135547</td>\n",
       "      <td>52.672790</td>\n",
       "      <td>POINT (92.36777800000004 20.81888900000007)</td>\n",
       "    </tr>\n",
       "    <tr>\n",
       "      <th>2</th>\n",
       "      <td>None</td>\n",
       "      <td>0</td>\n",
       "      <td>217.816</td>\n",
       "      <td>19</td>\n",
       "      <td>1</td>\n",
       "      <td>5.71</td>\n",
       "      <td>5.27</td>\n",
       "      <td>20.881944</td>\n",
       "      <td>95.863056</td>\n",
       "      <td>1</td>\n",
       "      <td>...</td>\n",
       "      <td>0</td>\n",
       "      <td>0</td>\n",
       "      <td>0</td>\n",
       "      <td>None</td>\n",
       "      <td>0</td>\n",
       "      <td>0</td>\n",
       "      <td>0</td>\n",
       "      <td>1773.712258</td>\n",
       "      <td>1625.482094</td>\n",
       "      <td>POINT (95.86305600000009 20.88194400000003)</td>\n",
       "    </tr>\n",
       "    <tr>\n",
       "      <th>3</th>\n",
       "      <td>None</td>\n",
       "      <td>0</td>\n",
       "      <td>199.920</td>\n",
       "      <td>21</td>\n",
       "      <td>1</td>\n",
       "      <td>7.96</td>\n",
       "      <td>6.01</td>\n",
       "      <td>25.387500</td>\n",
       "      <td>97.390278</td>\n",
       "      <td>1</td>\n",
       "      <td>...</td>\n",
       "      <td>0</td>\n",
       "      <td>0</td>\n",
       "      <td>0</td>\n",
       "      <td>None</td>\n",
       "      <td>0</td>\n",
       "      <td>0</td>\n",
       "      <td>0</td>\n",
       "      <td>1476.386156</td>\n",
       "      <td>1157.620835</td>\n",
       "      <td>POINT (97.39027800000008 25.38750000000005)</td>\n",
       "    </tr>\n",
       "    <tr>\n",
       "      <th>4</th>\n",
       "      <td>None</td>\n",
       "      <td>0</td>\n",
       "      <td>205.727</td>\n",
       "      <td>20</td>\n",
       "      <td>1</td>\n",
       "      <td>6.98</td>\n",
       "      <td>5.59</td>\n",
       "      <td>23.990000</td>\n",
       "      <td>97.901667</td>\n",
       "      <td>1</td>\n",
       "      <td>...</td>\n",
       "      <td>0</td>\n",
       "      <td>0</td>\n",
       "      <td>0</td>\n",
       "      <td>None</td>\n",
       "      <td>0</td>\n",
       "      <td>0</td>\n",
       "      <td>0</td>\n",
       "      <td>1032.353947</td>\n",
       "      <td>476.490891</td>\n",
       "      <td>POINT (97.90166700000003 23.99000000000007)</td>\n",
       "    </tr>\n",
       "  </tbody>\n",
       "</table>\n",
       "<p>5 rows × 41 columns</p>\n",
       "</div>"
      ],
      "text/plain": [
       "  District  District_c  GHI_wpm2_1  Gr_ml_cm  HHPhase  Ho_size_r  Ho_size_u  \\\n",
       "0     NULL           0     214.926        20        1       6.20       5.85   \n",
       "1     NULL           0     214.992        20        1       6.20       5.85   \n",
       "2     None           0     217.816        19        1       5.71       5.27   \n",
       "3     None           0     199.920        21        1       7.96       6.01   \n",
       "4     None           0     205.727        20        1       6.98       5.59   \n",
       "\n",
       "    Latitude  Longitude  MVPhase                     ...                       \\\n",
       "0  20.137222  92.885556        1                     ...                        \n",
       "1  20.818889  92.367778        1                     ...                        \n",
       "2  20.881944  95.863056        1                     ...                        \n",
       "3  25.387500  97.390278        1                     ...                        \n",
       "4  23.990000  97.901667        1                     ...                        \n",
       "\n",
       "   Village_fa  Village_hh Village_po  Villagetra  Vt_code  Vt_hh  Vt_pop  \\\n",
       "0           0           0          0        NULL        0      0       0   \n",
       "1           0           0          0        NULL        0      0       0   \n",
       "2           0           0          0        None        0      0       0   \n",
       "3           0           0          0        None        0      0       0   \n",
       "4           0           0          0        None        0      0       0   \n",
       "\n",
       "       d_MVlines       d_road                                     geometry  \n",
       "0  156373.495616   153.318168  POINT (92.88555600000007 20.13722200000007)  \n",
       "1  215488.135547    52.672790  POINT (92.36777800000004 20.81888900000007)  \n",
       "2    1773.712258  1625.482094  POINT (95.86305600000009 20.88194400000003)  \n",
       "3    1476.386156  1157.620835  POINT (97.39027800000008 25.38750000000005)  \n",
       "4    1032.353947   476.490891  POINT (97.90166700000003 23.99000000000007)  \n",
       "\n",
       "[5 rows x 41 columns]"
      ]
     },
     "execution_count": 6,
     "metadata": {},
     "output_type": "execute_result"
    }
   ],
   "source": [
    "villages.head()"
   ]
  },
  {
   "cell_type": "code",
   "execution_count": null,
   "metadata": {
    "collapsed": false
   },
   "outputs": [
    {
     "data": {
      "text/plain": [
       "<matplotlib.axes._subplots.AxesSubplot at 0x12d9b3110>"
      ]
     },
     "execution_count": 7,
     "metadata": {},
     "output_type": "execute_result"
    }
   ],
   "source": [
    "villages.GHI_wpm2_1.hist()"
   ]
  },
  {
   "cell_type": "code",
   "execution_count": null,
   "metadata": {
    "collapsed": false
   },
   "outputs": [],
   "source": [
    "villages[villages.NightLig_1==1][\"Population\"].sum()/float(villages[\"Population\"].sum())"
   ]
  },
  {
   "cell_type": "code",
   "execution_count": null,
   "metadata": {
    "collapsed": true
   },
   "outputs": [],
   "source": [
    "villages = villages.dropna()\n",
    "villages = villages[villages.Population>0]"
   ]
  },
  {
   "cell_type": "code",
   "execution_count": null,
   "metadata": {
    "collapsed": true
   },
   "outputs": [],
   "source": [
    "villages[\"RequiredPower\"] = villages[\"Population\"]*Average_Power_Use_per_capita"
   ]
  },
  {
   "cell_type": "code",
   "execution_count": null,
   "metadata": {
    "collapsed": true
   },
   "outputs": [],
   "source": [
    "rated_power_range_cost = {\"<30\":28.177,\"30-100\":43.687,\"100-150\":78.036,\"150-300\":108.205,\">300\":151.956}"
   ]
  },
  {
   "cell_type": "code",
   "execution_count": null,
   "metadata": {
    "collapsed": false
   },
   "outputs": [],
   "source": [
    "def transmission_cost(x,costs = rated_power_range_cost):\n",
    "    retval = 0\n",
    "    if x<30:\n",
    "        retval=costs[\"<30\"]\n",
    "    if (x>=30) & (x<100):\n",
    "        retval=costs[\"30-100\"]\n",
    "    if (x>=100) & (x<150):\n",
    "        retval=costs[\"100-150\"]\n",
    "    if (x>=150) & (x<300):\n",
    "        retval=costs[\"150-300\"]\n",
    "    if x>=300:\n",
    "        retval=costs[\">300\"]\n",
    "    return retval"
   ]
  },
  {
   "cell_type": "code",
   "execution_count": null,
   "metadata": {
    "collapsed": true
   },
   "outputs": [],
   "source": [
    "villages[\"TransCostRRTP\"] = villages[\"RequiredPower\"].apply(lambda x: transmission_cost(x))"
   ]
  },
  {
   "cell_type": "code",
   "execution_count": null,
   "metadata": {
    "collapsed": false
   },
   "outputs": [],
   "source": [
    "villages[\"TransmissionCost\"] = villages[\"d_MVlines\"]*villages[\"TransCostRRTP\"]/(villages[\"Population\"]*Lifetime_Energy_Use_Per_Capita)"
   ]
  },
  {
   "cell_type": "code",
   "execution_count": null,
   "metadata": {
    "collapsed": false
   },
   "outputs": [],
   "source": [
    "villages[\"onGridCosts\"]=villages[\"TransmissionCost\"]+cost_grid_connected"
   ]
  },
  {
   "cell_type": "code",
   "execution_count": null,
   "metadata": {
    "collapsed": true
   },
   "outputs": [],
   "source": [
    "# villages = villages[villages[\"onGridCosts\"]]"
   ]
  },
  {
   "cell_type": "code",
   "execution_count": null,
   "metadata": {
    "collapsed": false
   },
   "outputs": [],
   "source": [
    "villages[\"offGridCostsStandAlone\"] = lcoe_coeff*villages[\"GHI_wpm2_1\"]+1"
   ]
  },
  {
   "cell_type": "code",
   "execution_count": null,
   "metadata": {
    "collapsed": false
   },
   "outputs": [],
   "source": [
    "(villages[\"offGridCostsStandAlone\"]>villages[\"onGridCosts\"]).sum()"
   ]
  },
  {
   "cell_type": "code",
   "execution_count": null,
   "metadata": {
    "collapsed": false
   },
   "outputs": [],
   "source": [
    "villages[\"offGridCostsStandAlone\"].hist()"
   ]
  },
  {
   "cell_type": "code",
   "execution_count": null,
   "metadata": {
    "collapsed": false
   },
   "outputs": [],
   "source": [
    "villages[\"onGridCosts\"].hist()"
   ]
  },
  {
   "cell_type": "code",
   "execution_count": null,
   "metadata": {
    "collapsed": false
   },
   "outputs": [],
   "source": [
    "villages[\"onGridCosts\"].max()"
   ]
  },
  {
   "cell_type": "code",
   "execution_count": null,
   "metadata": {
    "collapsed": false
   },
   "outputs": [],
   "source": [
    "villages_tmp = villages.sample(3000)"
   ]
  },
  {
   "cell_type": "code",
   "execution_count": null,
   "metadata": {
    "collapsed": false,
    "scrolled": false
   },
   "outputs": [],
   "source": [
    "myanmar_map = folium.Map([20, 95],\n",
    "                  zoom_start=6,\n",
    "                  tiles='cartodbpositron')\n",
    "width, height = 310,170\n",
    "popups, locations = [], []\n",
    "for idx, row in villages_tmp.iterrows():\n",
    "    locations.append([row['Latitude'], row['Longitude']])\n",
    "    name = row['Name'].encode('ascii', 'xmlcharrefreplace')\n",
    "    opr = row['MV_distanc']\n",
    "    population_current = row[\"Population\"]\n",
    "    isElectrified = row[\"NightLig_1\"]\n",
    "    offGridCost = row[\"offGridCostsStandAlone\"]\n",
    "    onGridCost = row[\"onGridCosts\"]\n",
    "    iframe = IFrame(table(name, population_current, opr,offGridCost,onGridCost), width=width, height=height)\n",
    "    popups.append(iframe)\n",
    "    \n",
    "h = folium.FeatureGroup(name='Hydroelectric')\n",
    "child1 = MarkerCluster(locations=locations, popups=popups)\n",
    "# h.add_child(child1)\n",
    "child1.name=\"All Villages\"\n",
    "myanmar_map.add_child(child1)\n",
    "# myanmar_map.add_child(HeatMap(zip(villages[\"Latitude\"],\n",
    "#                                      villages[\"Longitude\"],\n",
    "#                                      villages[\"Missing Electricity\"]),radius=5), name=\"Missing Electricity HeatMap\")\n",
    "# myanmar_map.add_child(HeatMap(zip(villages[\"Latitude\"],\n",
    "#                                      villages[\"Longitude\"],\n",
    "#                                      villages[\"Missing Electricity\"]),radius=5), name=\"Missing Electricity HeatMap\")\n",
    "\n",
    "myanmar_map.add_child(folium.LayerControl())\n",
    "myanmar_map.save(\"withOnOffCosts.html\")"
   ]
  },
  {
   "cell_type": "code",
   "execution_count": null,
   "metadata": {
    "collapsed": false
   },
   "outputs": [],
   "source": [
    "map = folium.Map([20, 95],\n",
    "                  zoom_start=6,\n",
    "                  tiles='cartodbpositron')\n",
    "map.choropleth(geo_path=circles.to_json(), data=villages_tmp,\n",
    "             columns=['Name', 'Missing E lectricity'],\n",
    "             key_on='Name',\n",
    "             fill_color='YlGn', fill_opacity=0.7, line_opacity=0.2)\n",
    "map.save('us_states.html')"
   ]
  },
  {
   "cell_type": "code",
   "execution_count": null,
   "metadata": {
    "collapsed": true
   },
   "outputs": [],
   "source": []
  },
  {
   "cell_type": "code",
   "execution_count": null,
   "metadata": {
    "collapsed": true
   },
   "outputs": [],
   "source": []
  }
 ],
 "metadata": {
  "kernelspec": {
   "display_name": "Python [Root]",
   "language": "python",
   "name": "Python [Root]"
  },
  "language_info": {
   "codemirror_mode": {
    "name": "ipython",
    "version": 2
   },
   "file_extension": ".py",
   "mimetype": "text/x-python",
   "name": "python",
   "nbconvert_exporter": "python",
   "pygments_lexer": "ipython2",
   "version": "2.7.12"
  }
 },
 "nbformat": 4,
 "nbformat_minor": 0
}
